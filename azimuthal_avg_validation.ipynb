{
 "cells": [
  {
   "cell_type": "code",
   "execution_count": 1,
   "id": "fdab314a",
   "metadata": {},
   "outputs": [],
   "source": [
    "import os\n",
    "import sys\n",
    "import numpy as np\n",
    "import matplotlib.pyplot as plt\n",
    "import matplotlib\n"
   ]
  },
  {
   "cell_type": "code",
   "execution_count": 2,
   "id": "a9d3a013",
   "metadata": {},
   "outputs": [],
   "source": [
    "def cart2polar(x, y):\n",
    "    \"\"\"For numpy arrays x and y returns the numpy arrays of r and theta.\n",
    "    \"\"\"\n",
    "    r = np.sqrt(x*x + y*y)\n",
    "    theta = np.rad2deg(np.arctan2(y, x)) #[-180,180]\n",
    "    #theta0 = np.select([theta<0, theta>=0],[theta+360,theta]) #[0,360]\n",
    "    return r, theta\n",
    "\n",
    "\n",
    "def bin_avrg_rad_phi(nda, pb, rb, do_transp=True):\n",
    "        \"\"\"Returns 2-d (rad,phi) numpy array of averaged in bin intensity for input array nda.\"\"\"\n",
    "        arr_rphi = bin_avrg(_ravel_(nda))[:-1] # -1 removes off ROI bin\n",
    "        arr_rphi.shape = (pb, rb)\n",
    "        return np.transpose(arr_rphi) if do_transp else arr_rphi\n",
    "\n",
    "\n",
    "def bin_avrg(nda, npix_per_bin ):\n",
    "        \"\"\"Returns 1-d numpy array of averaged in r-phi bin intensities for input image array nda.\n",
    "           WARNING array range [0, nrbins*npbins + 1], where +1 bin intensity is for all off ROI pixels.\n",
    "        \"\"\"\n",
    "        num = bin_intensity(_ravel_(nda), iseq, ntbins)\n",
    "        den = npix_per_bin \n",
    "        return divide_protected(num, den, vsub_zero=0)    \n",
    "    \n",
    "    \n",
    "def bin_intensity(nda, iseq, ntbins):\n",
    "        \"\"\"Returns 1-d numpy array of total pixel intensity per bin for input array nda.\"\"\"\n",
    "        #return np.bincount(self.iseq, weights=self._ravel_(nda), minlength=None)\n",
    "        return np.bincount(iseq, weights=_ravel_(nda), minlength=ntbins+1) # +1 for overflow bin\n",
    "\n",
    "\n",
    "\n",
    "def _ravel_(nda):\n",
    "        if len(np.shape(nda))>1:\n",
    "            #nda.shape = self.shapeflat\n",
    "            return nda.ravel() # return ravel copy in order to preserve input array shape\n",
    "        return nda\n",
    "   \n",
    "    \n",
    "def divide_protected(num, den, vsub_zero=0):\n",
    "    \"\"\"Returns result of devision of numpy arrays num/den with substitution of value vsub_zero for zero den elements.\n",
    "    \"\"\"\n",
    "    pro_num = np.select((den!=0,), (num,), default=vsub_zero)\n",
    "    pro_den = np.select((den!=0,), (den,), default=1)\n",
    "    return pro_num / pro_den\n",
    "\n",
    "\n",
    "def polar_histogram(shape, cx, cy, ro, ri, ao, ai, nr, na):\n",
    "        \"\"\"Returns hp.HPolar object.\n",
    "        \"\"\"\n",
    "        rows, cols = shape\n",
    "        xarr1 = np.arange(cols) - cx\n",
    "        yarr1 = np.arange(rows) - cy\n",
    "        xarr, yarr = np.meshgrid(xarr1, yarr1)\n",
    "#         hpolar = hp.HPolar(xarr, yarr, radedges=(ri, ro), nradbins=nr, phiedges=(ao, ai), nphibins=na)\n",
    "        # logger.info('%s %s\\n%s' %(hp.info_ndarr(xarr,'pixel coordinate arrays: xarr'),\n",
    "        #              hp.info_ndarr(yarr,' yarr'),\n",
    "        #              hpolar.info_attrs()))\n",
    "        return xarr, yarr\n",
    "    \n",
    "def _set_limit_indexes(self, edgemode):\n",
    "        \"\"\"Returns limit bin indexes for underflow and overflow values\"\"\"\n",
    "        if   edgemode==0: return  0, self._nbins-1\n",
    "        elif edgemode==1: return -1, self._nbins\n",
    "\n",
    "def bin_indexes(self, arr, edgemode=0):\n",
    "\n",
    "        indmin, indmax = self._set_limit_indexes(edgemode)\n",
    "\n",
    "        if self._equalbins:\n",
    "            factor = float(self._nbins)/(self._edges[-1]-self._edges[0])\n",
    "            nbins1 = self._nbins-1\n",
    "            nparr = (np.array(arr, dtype=self._vtype)-self._edges[0])*factor\n",
    "            ind = np.array(np.floor(nparr), dtype=np.int32)\n",
    "            return np.select((ind<0, ind>nbins1), (indmin, indmax), default=ind)\n"
   ]
  },
  {
   "cell_type": "markdown",
   "id": "cf21c5bc-c1c8-49a1-bd6b-417950547654",
   "metadata": {},
   "source": [
    "# In this notebook, I will create a \"fake\" set of data to represent a perfect diffraction pattern. I use this data to validate two separate radial profile scripts"
   ]
  },
  {
   "cell_type": "code",
   "execution_count": 5,
   "id": "bfc3f662",
   "metadata": {},
   "outputs": [
    {
     "name": "stdout",
     "output_type": "stream",
     "text": [
      "Shape of input array is: (100, 100)\n"
     ]
    },
    {
     "data": {
      "image/png": "[encoded data removed]",
      "text/plain": [
       "<Figure size 504x504 with 2 Axes>"
      ]
     },
     "metadata": {
      "needs_background": "light"
     },
     "output_type": "display_data"
    }
   ],
   "source": [
    "# center point of pattern \n",
    "cx = 50\n",
    "cy = 50\n",
    "\n",
    "# create empty array \n",
    "x = np.linspace(0,0,100)\n",
    "y = np.linspace(0,0,100)\n",
    "\n",
    "xx, yy = np.meshgrid(x, y)\n",
    "arr = xx\n",
    "arr=(arr+1)\n",
    "\n",
    "radius = 50\n",
    "\n",
    "# create rings at radii 10, 20, 40 with increasing intensity\n",
    "for i in range(len(x)):\n",
    "    for j in range(len(y)):\n",
    "        if (np.sqrt((i-cx)**2 + (j-cy)**2) <= 10) & (np.sqrt((i-cx)**2 + (j-cy)**2) >= 9):\n",
    "            arr[i,j] = 2\n",
    "        if (np.sqrt((i-cx)**2 + (j-cy)**2) <= 20) & (np.sqrt((i-cx)**2 + (j-cy)**2) >= 19):\n",
    "            arr[i,j] = 4\n",
    "        if (np.sqrt((i-cx)**2 + (j-cy)**2) <= 41) & (np.sqrt((i-cx)**2 + (j-cy)**2) >= 40):\n",
    "            arr[i,j] = 9\n",
    "\n",
    "# plot \"fake\" data\n",
    "print(\"Shape of input array is:\", np.shape(arr))\n",
    "plt.figure(figsize=(7,7))\n",
    "plt.imshow(arr)\n",
    "plt.colorbar()\n",
    "plt.title(\"Pretty Data\")\n",
    "plt.show()"
   ]
  },
  {
   "cell_type": "markdown",
   "id": "8bafff47",
   "metadata": {},
   "source": [
    "# Python Azimuthal Avg Function\n",
    "This script should be used to plot radial profiles of diffraction patterns. Standard \"offline\" (aka NOT real time) analysis"
   ]
  },
  {
   "cell_type": "code",
   "execution_count": 9,
   "id": "86107a4d",
   "metadata": {},
   "outputs": [
    {
     "name": "stdout",
     "output_type": "stream",
     "text": [
      "Given my set of fake data, we expect peaks at 10, 20, 40 with increasing intensities\n"
     ]
    },
    {
     "data": {
      "image/png": "[encoded data removed]",
      "text/plain": [
       "<Figure size 432x288 with 1 Axes>"
      ]
     },
     "metadata": {
      "needs_background": "light"
     },
     "output_type": "display_data"
    },
    {
     "name": "stdout",
     "output_type": "stream",
     "text": [
      "This serves as a validation study for my first azimuthal averaging script\n"
     ]
    }
   ],
   "source": [
    "# Image dimensions\n",
    "num_row = np.shape(arr)[0]\n",
    "num_col = np.shape(arr)[1]\n",
    "\n",
    "# For azimuthal average\n",
    "r_max = 50 # maximum radius to perform azimuthal average (in pixel)\n",
    "\n",
    "# Center point\n",
    "x0 = cx\n",
    "y0 = cy\n",
    "\n",
    "# Analysis\n",
    "azi_avg = np.zeros((r_max,))\n",
    "azi_std = np.zeros((r_max,))\n",
    "rad_pro = np.zeros((r_max,))\n",
    "count = np.zeros((r_max,))\n",
    "\n",
    "\n",
    "for i in range(num_row):\n",
    "        for j in range(num_col):\n",
    "            if not np.isnan(arr[i,j]):\n",
    "                radius = np.sqrt( pow(i-y0,2)+pow(j-x0,2) ) \n",
    "                radius_int = int(radius)\n",
    "                radius_frac = radius - radius_int \n",
    "                if radius_int < r_max: \n",
    "                    azi_avg[radius_int] += arr[i,j]*(1-radius_frac)\n",
    "                    count[radius_int] += (1- radius_frac)\n",
    "                   \n",
    "                    \n",
    "                if (radius_int+1) < r_max:\n",
    "                    azi_avg[radius_int+1] += arr[i,j]*radius_frac\n",
    "                    count[radius_int+1] += radius_frac\n",
    "for i in range(r_max):\n",
    "        if count[i] != 0:\n",
    "            azi_avg[i] = azi_avg[i] / count[i] \n",
    "\n",
    "            \n",
    "# print/plot results\n",
    "print(\"Given my set of fake data, we expect peaks at 10, 20, 40 with increasing intensities\")\n",
    "plt.figure()\n",
    "plt.plot(azi_avg)\n",
    "plt.title(\"Radial Profile\")\n",
    "plt.xlabel(\"Radius\")\n",
    "plt.ylabel(\"Intensity\")\n",
    "plt.show()\n",
    "\n",
    "print(\"This serves as a validation study for my first azimuthal averaging script\")"
   ]
  },
  {
   "cell_type": "markdown",
   "id": "fdb0c103",
   "metadata": {},
   "source": [
    "# AMI Azimuthal Avg Function\n",
    "This script should be used to plot radial profiles of diffraction patterns. \"Online\" (aka real time) analysis"
   ]
  },
  {
   "cell_type": "code",
   "execution_count": 10,
   "id": "09459997",
   "metadata": {},
   "outputs": [],
   "source": [
    "# radial parameters\n",
    "ro = 50\n",
    "ri = 2\n",
    "# angular parameters\n",
    "ao = 0 \n",
    "ai = 360\n",
    "# bin parameterz\n",
    "nr = 50\n",
    "na = 1\n",
    "\n",
    "phiedges=(ao,ai)\n",
    "radedges = (ri, ro)\n",
    "nradbins = nr\n",
    "nphibins = na"
   ]
  },
  {
   "cell_type": "code",
   "execution_count": 12,
   "id": "e799b499",
   "metadata": {},
   "outputs": [
    {
     "name": "stdout",
     "output_type": "stream",
     "text": [
      "The shape of input array =  (100, 100)\n",
      "[[-50 -49 -48 ...  47  48  49]\n",
      " [-50 -49 -48 ...  47  48  49]\n",
      " [-50 -49 -48 ...  47  48  49]\n",
      " ...\n",
      " [-50 -49 -48 ...  47  48  49]\n",
      " [-50 -49 -48 ...  47  48  49]\n",
      " [-50 -49 -48 ...  47  48  49]]\n"
     ]
    }
   ],
   "source": [
    "# create input array\n",
    "\n",
    "rows, cols = (arr.shape) \n",
    "xarr1 = np.arange(cols) - cx\n",
    "yarr1 = np.arange(rows) - cy\n",
    "xarr, yarr = np.meshgrid(xarr1, yarr1)\n",
    "\n",
    "print(\"The shape of input array = \",np.shape(arr))\n",
    "print(xarr)"
   ]
  },
  {
   "cell_type": "code",
   "execution_count": 14,
   "id": "3bff842e",
   "metadata": {},
   "outputs": [
    {
     "name": "stdout",
     "output_type": "stream",
     "text": [
      "Rad is an array of radii; the radius of every point in meshgrid, shape =\n",
      "(100, 100)\n",
      "flatten rad array\n",
      "(10000,)\n",
      "Max radius =  70.71067811865476\n",
      "\n",
      "\n",
      "Phi is an array of angles in the range of [0, 360]\n",
      "phi max =  358.83086067209257\n"
     ]
    }
   ],
   "source": [
    "rad, phi0 = cart2polar(xarr, yarr)\n",
    "print(\"Rad is an array of radii; the radius of every point in meshgrid, shape =\")\n",
    "print(rad.shape)\n",
    "print('flatten rad array')\n",
    "shapeflat = (rad.size,)\n",
    "rad.shape = shapeflat\n",
    "phi0.shape = shapeflat\n",
    "print(rad.shape)\n",
    "print(\"Max radius = \",rad.max())\n",
    "# phi = 1-d numpy array of pixel angules in the range [phi_min, phi_min+360] degree \n",
    "phimin = min(phiedges[0], phiedges[-1])\n",
    "phi = np.select((phi0 < phimin, phi0 >= phimin), (phi0+360.,phi0))\n",
    "print('\\n')\n",
    "print('Phi is an array of angles in the range of [0, 360]')\n",
    "print(\"phi max = \",phi.max()) # why only 90?"
   ]
  },
  {
   "cell_type": "code",
   "execution_count": 16,
   "id": "949365f0",
   "metadata": {},
   "outputs": [
    {
     "name": "stdout",
     "output_type": "stream",
     "text": [
      "Total radial bins =  50\n",
      "Total angular bins =  1\n",
      "Total bins =  50\n",
      "\n",
      "\n",
      "radial factor =  1.0416666666666667\n",
      "angular factor =  0.002777777777777778\n"
     ]
    }
   ],
   "source": [
    "# Binning: radial(rad), angular(phi), total\n",
    "nrbins = nr\n",
    "npbins = na\n",
    "ntbins = npbins*nrbins # total number of bins in r-phi array\n",
    "\n",
    "print(\"Total radial bins = \", nr)\n",
    "print(\"Total angular bins = \", na)\n",
    "print(\"Total bins = \", ntbins) # nt will be x axis, make sure it = the desireed range\n",
    "print(\"\\n\")\n",
    "\n",
    "#  Create a 1-d numpy array of pixel radial indexes [-1,nrbins] called irad\n",
    "indmin, indmax = (-1, nr)\n",
    "factor = float(nr)/(radedges[-1]-radedges[0])\n",
    "print(\"radial factor = \",factor)\n",
    "nbins1 = nr-1\n",
    "nparr = (np.array(rad, dtype=np.float32)-radedges[0])*factor\n",
    "ind = np.array(np.floor(nparr), dtype=np.int32)\n",
    "irad = np.select((ind<0, ind>nbins1), (indmin, indmax), default=ind)\n",
    "\n",
    "# Create a 1-d numpy array of pixel angular indexes [-1,npbins] called iphi\n",
    "indmin, indmax = (-1, na)\n",
    "factor = float(na)/(phiedges[-1]-phiedges[0])\n",
    "print(\"angular factor = \",factor)\n",
    "nbins1 = na-1\n",
    "nparr = (np.array(phi, dtype=np.float32)-phiedges[0])*factor\n",
    "ind = np.array(np.floor(nparr), dtype=np.int32)\n",
    "iphi = np.select((ind<0, ind>nbins1), (indmin, indmax), default=ind)\n",
    "\n"
   ]
  },
  {
   "cell_type": "code",
   "execution_count": 17,
   "id": "68c3b71b",
   "metadata": {},
   "outputs": [],
   "source": [
    "cond = np.logical_and(\\\n",
    "               np.logical_and(irad > -1, irad < nrbins),\n",
    "               np.logical_and(iphi > -1, iphi < npbins)\n",
    "               )\n",
    "\n",
    "# iseq is the array of sequentially (in rad and phi) numerated pixel indexes [0,ntbins]\n",
    "iseq = np.select((cond,), (iphi*nrbins + irad,), ntbins).ravel()\n",
    "npix_per_bin = np.bincount(iseq, weights=None, minlength=ntbins+1)\n",
    "\n",
    "# num is the array of total pixel intensity per bin for input array \n",
    "num = bin_intensity((arr.ravel()), iseq, ntbins)\n",
    "\n",
    "# den is an array of the number of accounted pixels per bin\n",
    "den = npix_per_bin\n",
    "arr_rphi = divide_protected(num, den, vsub_zero=0)"
   ]
  },
  {
   "cell_type": "code",
   "execution_count": 21,
   "id": "4a8ba3da",
   "metadata": {},
   "outputs": [],
   "source": [
    "# divide the total pixel intensity by number of pixels per bin\n",
    "arr_final = divide_protected(num, den, vsub_zero=0)[:-1]\n",
    "arr_final.shape = (npbins, nrbins)\n",
    "arr_final = np.transpose(arr_final)\n",
    "\n",
    "rproj = np.sum(arr_final, axis=1)/npbins\n",
    "\n"
   ]
  },
  {
   "cell_type": "code",
   "execution_count": 23,
   "id": "48dabc70",
   "metadata": {},
   "outputs": [
    {
     "name": "stdout",
     "output_type": "stream",
     "text": [
      "Shape of radial profile array =  (50,)\n",
      "Dimensions of radial profile array =  1\n",
      "\n",
      "\n",
      "Expect peaks at 9, 19, 40 with increasing intensities\n"
     ]
    },
    {
     "data": {
      "image/png": "[encoded data removed]",
      "text/plain": [
       "<Figure size 432x288 with 1 Axes>"
      ]
     },
     "metadata": {
      "needs_background": "light"
     },
     "output_type": "display_data"
    },
    {
     "name": "stdout",
     "output_type": "stream",
     "text": [
      "this acts as a validation study for my second azimuthal averaging script\n"
     ]
    }
   ],
   "source": [
    "print(\"Shape of radial profile array = \", np.shape(rproj))\n",
    "print(\"Dimensions of radial profile array = \", (arr_rphi.ndim))\n",
    "print(\"\\n\")\n",
    "print(\"Expect peaks at 9, 19, 40 with increasing intensities\")\n",
    "\n",
    "plt.figure()\n",
    "plt.plot(rproj)\n",
    "plt.title(\"Radial Profile (AMI)\")\n",
    "plt.xlabel(\"Radius\")\n",
    "plt.ylabel(\"Intensity\")\n",
    "plt.show()\n",
    "\n",
    "print(\"this acts as a validation study for my second azimuthal averaging script\")"
   ]
  },
  {
   "cell_type": "code",
   "execution_count": null,
   "id": "f9148e4e-d80b-4d6b-a94d-8450b8290e42",
   "metadata": {},
   "outputs": [],
   "source": []
  }
 ],
 "metadata": {
  "kernelspec": {
   "display_name": "Python 3",
   "language": "python",
   "name": "python3"
  },
  "language_info": {
   "codemirror_mode": {
    "name": "ipython",
    "version": 3
   },
   "file_extension": ".py",
   "mimetype": "text/x-python",
   "name": "python",
   "nbconvert_exporter": "python",
   "pygments_lexer": "ipython3",
   "version": "3.8.8"
  }
 },
 "nbformat": 4,
 "nbformat_minor": 5
}
